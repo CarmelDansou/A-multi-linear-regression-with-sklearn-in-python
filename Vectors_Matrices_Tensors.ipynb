{
 "cells": [
  {
   "cell_type": "markdown",
   "metadata": {},
   "source": [
    "In this notebook, I am going to introduce the reader to the essential of linear algebra needed for machine learning. There is a whole bunch of advanced maths that need to be mastered to really understand the deep core of machine learning, however to get started all you need is basics of  linear algebra, calculus,and intermediate-level Python. So this notebook is concerned with linear alagebra in Python\n",
    "## Basics linear algebra with Numpy\n",
    "Linear algebra is very important in machine learning. Here we will introduce the reader to how to perferm basics linear algebra operations with the python Numpy library. We will talk about:\n",
    "1. Vectors,\n",
    "2. Matrices\n",
    "3. Tensors."
   ]
  },
  {
   "cell_type": "code",
   "execution_count": 5,
   "metadata": {},
   "outputs": [],
   "source": [
    "import matplotlib.pyplot as plt\n",
    "import numpy as np # There is nothing special about importing it as np, that is what most people do\n",
    "import numpy.linalg as linalg\n",
    "%matplotlib inline\n",
    "np.set_printoptions(precision=3, suppress=True)\n",
    "plt.rcParams['figure.figsize'] = (10, 6)"
   ]
  },
  {
   "cell_type": "markdown",
   "metadata": {},
   "source": [
    "# 1. Vectors\n",
    "Vectors are ubiquitous in machine learning. In generally speaking, vectors can be defined as any class that can be added together and multiplied by scalars to produce another object of the same kind. If two obkwcts $a$ and $b$ are vectors, they must satisfy the following: \n",
    "1. $a$ + $b$ = $c$ \n",
    "2. $ \\lambda *a = d $\n",
    "\n",
    "With $c$, $d$ another two vectors and $\\lambda$ a scalar. Mathematically speaking, any object that satisfy the two properties are vectors. Vectors live in a vector space and $\\lambda$ are the field over which the vector space is defined. Vectors spaces can be defined over the complex field $\\mathbb{C}$ in which case $\\lambda$ is a complex number. They could also be defined over the real field $\\mathbb{R}$ in which case $\\lambda$ is a real number or over any purely abstract defined field you could think of. However, in machine learning, the vectors are real objects i.e their entries are real numbers and the vector space is fundamental defined over $\\mathbb{R}$."
   ]
  },
  {
   "cell_type": "markdown",
   "metadata": {},
   "source": [
    "> Create a vector and visualize it in Python\n",
    "\n",
    "Here let us look at how to define vector in the numpy library in Python and then do some basic operations on them. Let us defined a vector $a=\\begin{pmatrix}1\\\\ 2\\end{pmatrix}$ and a vector $b=\\begin{pmatrix}2\\\\ -1\\end{pmatrix}$"
   ]
  },
  {
   "cell_type": "code",
   "execution_count": 3,
   "metadata": {},
   "outputs": [
    {
     "data": {
      "text/plain": [
       "array([[1],\n",
       "       [2]])"
      ]
     },
     "execution_count": 3,
     "metadata": {},
     "output_type": "execute_result"
    }
   ],
   "source": [
    "a = np.array([1, 2]) # by default numpy create a row vector\n",
    "b= np.array([2, -1])\n",
    "a.reshape(-1,1) # need to reshape to see it display as a column vector. I will come back to reshape later on."
   ]
  },
  {
   "cell_type": "markdown",
   "metadata": {},
   "source": [
    "One could get a columns vector straight by doing the following:"
   ]
  },
  {
   "cell_type": "code",
   "execution_count": 3,
   "metadata": {},
   "outputs": [
    {
     "data": {
      "text/plain": [
       "array([[1],\n",
       "       [2]])"
      ]
     },
     "execution_count": 3,
     "metadata": {},
     "output_type": "execute_result"
    }
   ],
   "source": [
    "T= np.array([[1], [2]])\n",
    "T"
   ]
  },
  {
   "cell_type": "markdown",
   "metadata": {},
   "source": [
    "## `Visualize vectors`\n",
    "\n",
    "In the next cell, I create now a plot to visualize this two dimensional vector that I created."
   ]
  },
  {
   "cell_type": "code",
   "execution_count": 4,
   "metadata": {},
   "outputs": [
    {
     "data": {
      "image/png": "[encoded data removed]",
      "text/plain": [
       "<Figure size 432x432 with 1 Axes>"
      ]
     },
     "metadata": {
      "needs_background": "light"
     },
     "output_type": "display_data"
    }
   ],
   "source": [
    "fig = plt.figure(figsize=(6,6))\n",
    "ax = fig.gca()\n",
    "plt.xlim([-3, 3])\n",
    "plt.ylim([-3, 3])\n",
    "plt.grid()\n",
    "ax.arrow(0, 0, a[0], a[1], head_width=0.05, head_length=0.1, \n",
    "length_includes_head=True, linewidth=2, color='r');\n",
    "ax.arrow(0, 0, b[0], b[1], head_width=0.05, head_length=0.1, \n",
    "length_includes_head=True, linewidth=2, color='b');"
   ]
  },
  {
   "cell_type": "markdown",
   "metadata": {},
   "source": [
    "## `Addition, multiplying by scalar and transpose of a vector`"
   ]
  },
  {
   "cell_type": "code",
   "execution_count": 56,
   "metadata": {},
   "outputs": [],
   "source": [
    "c= a+b # c is the sum of the vector a and the vector b\n",
    "d=2*a # d is two times the vector a\n",
    "e=3*a-5*b # e is a linear combinaison of a and b\n",
    "f=a.T    # f is the transpose of a"
   ]
  },
  {
   "cell_type": "code",
   "execution_count": 57,
   "metadata": {},
   "outputs": [
    {
     "data": {
      "text/plain": [
       "array([1, 2])"
      ]
     },
     "execution_count": 57,
     "metadata": {},
     "output_type": "execute_result"
    }
   ],
   "source": [
    "f"
   ]
  },
  {
   "cell_type": "markdown",
   "metadata": {},
   "source": [
    "**Important note:** Of course you can do any arithmetic operations such as (`+`, `-`, `*`, `/`, `//`, `**`, etc.) on vectors in numpy but remember that the operations are done elements wise."
   ]
  },
  {
   "cell_type": "markdown",
   "metadata": {},
   "source": [
    "## `Dot product of two vectors`\n",
    "\n",
    "The product of a row vector with a column vector is a scalar, which we call the dot product. In `numpy`, you can use the `.dot` method of an array, or the symbol `@` to calculate the dot product."
   ]
  },
  {
   "cell_type": "code",
   "execution_count": 59,
   "metadata": {},
   "outputs": [
    {
     "data": {
      "text/plain": [
       "15"
      ]
     },
     "execution_count": 59,
     "metadata": {},
     "output_type": "execute_result"
    }
   ],
   "source": [
    "a@e # a.dot(e) could have give the same result."
   ]
  },
  {
   "cell_type": "markdown",
   "metadata": {},
   "source": [
    "The dot product allows us to talk about angle between the vectors, orthogonality of vectors, distance between vectors and overlap between vectors. \"Distance\" and \"Angle\" are useful beyond their usual interpretation. They are used as a measure of __similarity__ between vectors."
   ]
  },
  {
   "cell_type": "code",
   "execution_count": 63,
   "metadata": {},
   "outputs": [
    {
     "data": {
      "text/plain": [
       "array([ 2, -2])"
      ]
     },
     "execution_count": 63,
     "metadata": {},
     "output_type": "execute_result"
    }
   ],
   "source": [
    "a*b # does multiplication components wise"
   ]
  },
  {
   "cell_type": "markdown",
   "metadata": {},
   "source": [
    "## `Some special vectors in numpy`\n"
   ]
  },
  {
   "cell_type": "code",
   "execution_count": 67,
   "metadata": {},
   "outputs": [
    {
     "data": {
      "text/plain": [
       "array([1., 1., 1., 1., 1.])"
      ]
     },
     "execution_count": 67,
     "metadata": {},
     "output_type": "execute_result"
    }
   ],
   "source": [
    "one= np.ones(5) # np.ones(n) creates n dimentional vector with only 1 everywhere.\n",
    "one"
   ]
  },
  {
   "cell_type": "code",
   "execution_count": 68,
   "metadata": {},
   "outputs": [
    {
     "data": {
      "text/plain": [
       "array([0., 0., 0., 0., 0.])"
      ]
     },
     "execution_count": 68,
     "metadata": {},
     "output_type": "execute_result"
    }
   ],
   "source": [
    "zero= np.zeros(5) #np.zero(n) creates n dimentional vector with only 0 everywhere\n",
    "zero"
   ]
  },
  {
   "cell_type": "code",
   "execution_count": 7,
   "metadata": {},
   "outputs": [
    {
     "data": {
      "text/plain": [
       "array([0.75, 0.75, 0.  ])"
      ]
     },
     "execution_count": 7,
     "metadata": {},
     "output_type": "execute_result"
    }
   ],
   "source": [
    "empt=np.empty(3) # not to confuse with np.zeros. It returns an unintialized array. Its output is unpredictable\n",
    "empt"
   ]
  },
  {
   "cell_type": "code",
   "execution_count": 8,
   "metadata": {},
   "outputs": [
    {
     "data": {
      "text/plain": [
       "array([1, 2, 3, 4])"
      ]
     },
     "execution_count": 8,
     "metadata": {},
     "output_type": "execute_result"
    }
   ],
   "source": [
    "arange=np.arange(1,5) # This is similar to the python in built function range\n",
    "arange"
   ]
  },
  {
   "cell_type": "code",
   "execution_count": 10,
   "metadata": {},
   "outputs": [
    {
     "data": {
      "text/plain": [
       "array([1, 3, 5, 7, 9])"
      ]
     },
     "execution_count": 10,
     "metadata": {},
     "output_type": "execute_result"
    }
   ],
   "source": [
    "arange_step=np.arange(1,10,2) # I specify the step that is two in this case.\n",
    "arange_step"
   ]
  },
  {
   "cell_type": "code",
   "execution_count": 12,
   "metadata": {},
   "outputs": [
    {
     "data": {
      "text/plain": [
       "array([1.5, 2.5, 3.5])"
      ]
     },
     "execution_count": 12,
     "metadata": {},
     "output_type": "execute_result"
    }
   ],
   "source": [
    "arange_fl=np.arange(1.5,4.5) # np.arange also works with float.\n",
    "arange_fl"
   ]
  },
  {
   "cell_type": "code",
   "execution_count": 13,
   "metadata": {},
   "outputs": [
    {
     "data": {
      "text/plain": [
       "array([1.   , 1.333, 1.667, 2.   , 2.333])"
      ]
     },
     "execution_count": 13,
     "metadata": {},
     "output_type": "execute_result"
    }
   ],
   "source": [
    "lins=np.linspace(1,7/3,5) # return n evenly distributed points between two values. Here we have generated five points.\n",
    "lins"
   ]
  },
  {
   "cell_type": "markdown",
   "metadata": {},
   "source": [
    "Can you think about the difference betwen `np.linspace` and `np.arange`?"
   ]
  },
  {
   "cell_type": "code",
   "execution_count": 23,
   "metadata": {},
   "outputs": [
    {
     "data": {
      "text/plain": [
       "array([0.728, 0.021, 0.471])"
      ]
     },
     "execution_count": 23,
     "metadata": {},
     "output_type": "execute_result"
    }
   ],
   "source": [
    "rand=np.random.rand(3) # generating three random numbers uniformily distributed between 0 and 1.\n",
    "rand"
   ]
  },
  {
   "cell_type": "code",
   "execution_count": 22,
   "metadata": {},
   "outputs": [
    {
     "data": {
      "text/plain": [
       "array([ 0.338, -1.056, -2.367])"
      ]
     },
     "execution_count": 22,
     "metadata": {},
     "output_type": "execute_result"
    }
   ],
   "source": [
    "rand_n=np.random.randn(3) # generating three random numbers normally distributed.\n",
    "rand_n"
   ]
  },
  {
   "cell_type": "markdown",
   "metadata": {},
   "source": [
    "## `Norm of  vectors`\n",
    "\n",
    "Dot product between vectors induces the notion of norm. There are many types of norm but the $l_2$-norm, the $l_0$- and $l_1$-norms are frequently used in machine learning. These norms are defined as follows:\n",
    "1. $l_2 (x) = \\left( \\sum x_{i}^{2} \\right )^{1/2}$ . It is bssically the Frobenius norm,\n",
    "\n",
    "2. $l_1 (x) = \\sum  |x_{i}|$ where $ x_i$ are the component of the vector,\n",
    "\n",
    "3. $l_0$ counts the number of nonzero element of the vector.\n",
    "\n",
    "It is worth saying that the norm $l_0$ is very useful in some case. For instance, by imposing a regularizer on a neural network that adds a penalty in the $l_0$-norm of the weights, we increase sparsity in the network by forcing many entries to zero."
   ]
  },
  {
   "cell_type": "code",
   "execution_count": 73,
   "metadata": {},
   "outputs": [
    {
     "data": {
      "text/plain": [
       "2.0"
      ]
     },
     "execution_count": 73,
     "metadata": {},
     "output_type": "execute_result"
    }
   ],
   "source": [
    "np.linalg.norm(a, ord=0)"
   ]
  },
  {
   "cell_type": "markdown",
   "metadata": {},
   "source": [
    "## Important notice on the dimension of a vector  and dimension of an array in numpy\n",
    "\n",
    "The array `np.array([0,2,3])` is a vector in $R^3$, thus is a vector of dimension $3$. On the other hand, the array `np.array([0,2,3])` is a 1D array, that is a list of numbers. The array `np.array([[0,5],[4,4]])` is a 2D array in numpy, which is a rectangle of numbers. This is in fact a matrix."
   ]
  },
  {
   "cell_type": "markdown",
   "metadata": {},
   "source": [
    "## 2. Matrices"
   ]
  },
  {
   "cell_type": "markdown",
   "metadata": {},
   "source": [
    "Like vectors, matrics form linear spaces. The matrices we encounter in machine learnig are real-valued, just like the vectors. It is fundamental to know matrices manipulation to embark in machine learning journey. In numpy matrices are considered as multi dimensional array."
   ]
  },
  {
   "cell_type": "code",
   "execution_count": 25,
   "metadata": {},
   "outputs": [
    {
     "data": {
      "text/plain": [
       "array([[1, 2],\n",
       "       [0, 4]])"
      ]
     },
     "execution_count": 25,
     "metadata": {},
     "output_type": "execute_result"
    }
   ],
   "source": [
    "A = np.array([[1, 2], [0, 4]]) # Python disposes the array along rows.\n",
    "A"
   ]
  },
  {
   "cell_type": "code",
   "execution_count": 26,
   "metadata": {},
   "outputs": [
    {
     "data": {
      "text/plain": [
       "array([[1, 0],\n",
       "       [2, 4]])"
      ]
     },
     "execution_count": 26,
     "metadata": {},
     "output_type": "execute_result"
    }
   ],
   "source": [
    "A.T # transpose of a matrix"
   ]
  },
  {
   "cell_type": "code",
   "execution_count": 31,
   "metadata": {},
   "outputs": [
    {
     "data": {
      "text/plain": [
       "array([[1.5, 3. ],\n",
       "       [2.5, 4. ]])"
      ]
     },
     "execution_count": 31,
     "metadata": {},
     "output_type": "execute_result"
    }
   ],
   "source": [
    "B=np.array([[1.5,3],[2.5,4]])\n",
    "B"
   ]
  },
  {
   "cell_type": "markdown",
   "metadata": {},
   "source": [
    "## `Operation on matrices`\n",
    "One can do any arithmetic operations such as (`+`, `-`, `*`, `/`, `//`, `**`, etc.) on matrices in numpy. The operations are done elements wise."
   ]
  },
  {
   "cell_type": "code",
   "execution_count": 33,
   "metadata": {},
   "outputs": [
    {
     "data": {
      "text/plain": [
       "array([[ 1.5,  6. ],\n",
       "       [ 0. , 16. ]])"
      ]
     },
     "execution_count": 33,
     "metadata": {},
     "output_type": "execute_result"
    }
   ],
   "source": [
    "A*B # element wise multiplication"
   ]
  },
  {
   "cell_type": "code",
   "execution_count": 34,
   "metadata": {},
   "outputs": [
    {
     "data": {
      "text/plain": [
       "array([[0.667, 0.667],\n",
       "       [0.   , 1.   ]])"
      ]
     },
     "execution_count": 34,
     "metadata": {},
     "output_type": "execute_result"
    }
   ],
   "source": [
    "A/B # does elementwise division"
   ]
  },
  {
   "cell_type": "code",
   "execution_count": 35,
   "metadata": {},
   "outputs": [
    {
     "data": {
      "text/plain": [
       "array([[  1.,   8.],\n",
       "       [  0., 256.]])"
      ]
     },
     "execution_count": 35,
     "metadata": {},
     "output_type": "execute_result"
    }
   ],
   "source": [
    "A**B # elementwise exponentiation"
   ]
  },
  {
   "cell_type": "code",
   "execution_count": 36,
   "metadata": {},
   "outputs": [
    {
     "data": {
      "text/plain": [
       "array([[ 1,  4],\n",
       "       [ 0, 16]], dtype=int32)"
      ]
     },
     "execution_count": 36,
     "metadata": {},
     "output_type": "execute_result"
    }
   ],
   "source": [
    "A**2 # raise each element to the power 2"
   ]
  },
  {
   "cell_type": "code",
   "execution_count": 37,
   "metadata": {},
   "outputs": [
    {
     "data": {
      "text/plain": [
       "array([[3, 0],\n",
       "       [2, 6]], dtype=int32)"
      ]
     },
     "execution_count": 37,
     "metadata": {},
     "output_type": "execute_result"
    }
   ],
   "source": [
    "A^2 # square of the matrix"
   ]
  },
  {
   "cell_type": "code",
   "execution_count": 38,
   "metadata": {},
   "outputs": [
    {
     "data": {
      "text/plain": [
       "array([[ 6.5, 11. ],\n",
       "       [10. , 16. ]])"
      ]
     },
     "execution_count": 38,
     "metadata": {},
     "output_type": "execute_result"
    }
   ],
   "source": [
    "A@B # matrice multiplication"
   ]
  },
  {
   "cell_type": "markdown",
   "metadata": {},
   "source": [
    "## `Creating matrices with reshape`"
   ]
  },
  {
   "cell_type": "code",
   "execution_count": 45,
   "metadata": {},
   "outputs": [
    {
     "data": {
      "text/plain": [
       "array([[ 0,  1,  2,  3,  4,  5,  6,  7,  8,  9],\n",
       "       [10, 11, 12, 13, 14, 15, 16, 17, 18, 19],\n",
       "       [20, 21, 22, 23, 24, 25, 26, 27, 28, 29],\n",
       "       [30, 31, 32, 33, 34, 35, 36, 37, 38, 39],\n",
       "       [40, 41, 42, 43, 44, 45, 46, 47, 48, 49]])"
      ]
     },
     "execution_count": 45,
     "metadata": {},
     "output_type": "execute_result"
    }
   ],
   "source": [
    "mat_resh=np.arange(50).reshape(5,10)\n",
    "mat_resh"
   ]
  },
  {
   "cell_type": "code",
   "execution_count": 48,
   "metadata": {},
   "outputs": [
    {
     "data": {
      "text/plain": [
       "array([[ 0,  1,  2,  3,  4,  5],\n",
       "       [ 6,  7,  8,  9, 10, 11],\n",
       "       [12, 13, 14, 15, 16, 17],\n",
       "       [18, 19, 20, 21, 22, 23]])"
      ]
     },
     "execution_count": 48,
     "metadata": {},
     "output_type": "execute_result"
    }
   ],
   "source": [
    "mat_resh1=np.arange(24).reshape(4,6)\n",
    "mat_resh1"
   ]
  },
  {
   "cell_type": "markdown",
   "metadata": {},
   "source": [
    "One can also create special matrices with `np.zeros`, `np.eye`, `np.ones`. It will be good to try these and see how they work."
   ]
  },
  {
   "cell_type": "markdown",
   "metadata": {},
   "source": [
    "## `Matrices inversion`\n",
    "The inversion of a square matrix $A$ is the matrix noted $A^{-1}$ such that $A A^{-1}= I$ where $I$ is the identity matrix of the same size as $A$. A fundamental condition for a matrix to be invertible is that its determinant be non zero. Matrices which determinant is zero are called singular matrices."
   ]
  },
  {
   "cell_type": "code",
   "execution_count": 6,
   "metadata": {},
   "outputs": [
    {
     "data": {
      "text/plain": [
       "array([[ 1,  0,  3],\n",
       "       [ 5,  7,  1],\n",
       "       [ 2,  2, 31]])"
      ]
     },
     "execution_count": 6,
     "metadata": {},
     "output_type": "execute_result"
    }
   ],
   "source": [
    "A_0 = np.array([[1,0,3],[5,7,1],[2,2,31]])\n",
    "A_0"
   ]
  },
  {
   "cell_type": "code",
   "execution_count": 8,
   "metadata": {},
   "outputs": [
    {
     "data": {
      "text/plain": [
       "202.99999999999997"
      ]
     },
     "execution_count": 8,
     "metadata": {},
     "output_type": "execute_result"
    }
   ],
   "source": [
    "linalg.det(A_0) # computing the determinant of A_0"
   ]
  },
  {
   "cell_type": "code",
   "execution_count": 7,
   "metadata": {},
   "outputs": [
    {
     "data": {
      "text/plain": [
       "array([[ 1.059,  0.03 , -0.103],\n",
       "       [-0.754,  0.123,  0.069],\n",
       "       [-0.02 , -0.01 ,  0.034]])"
      ]
     },
     "execution_count": 7,
     "metadata": {},
     "output_type": "execute_result"
    }
   ],
   "source": [
    "linalg.inv(A_0) # computing the inverse of A_0"
   ]
  },
  {
   "cell_type": "markdown",
   "metadata": {},
   "source": [
    "## ` Moore–Penrose inverse`\n",
    "Have a look at this wikipedia page [Penrose](https://en.wikipedia.org/wiki/Moore%E2%80%93Penrose_pseudoinverse) to learn more about the pseudo inverse of a matrix and why it is used in linear algebra."
   ]
  },
  {
   "cell_type": "code",
   "execution_count": 10,
   "metadata": {},
   "outputs": [
    {
     "data": {
      "text/plain": [
       "array([[ 0.051,  0.061],\n",
       "       [-0.082,  0.102],\n",
       "       [ 0.316, -0.02 ]])"
      ]
     },
     "execution_count": 10,
     "metadata": {},
     "output_type": "execute_result"
    }
   ],
   "source": [
    "B_0 = np.array([[1,0,3],[5,7,1]]) # notice that the matrix needs not to be a square matrix\n",
    "linalg.pinv(B_0)"
   ]
  },
  {
   "cell_type": "markdown",
   "metadata": {},
   "source": [
    "## ` QR decomposition`\n",
    "Learn more about it here [QR](https://en.wikipedia.org/wiki/QR_decomposition)"
   ]
  },
  {
   "cell_type": "code",
   "execution_count": 12,
   "metadata": {},
   "outputs": [
    {
     "name": "stdout",
     "output_type": "stream",
     "text": [
      "[[-0.183  0.857 -0.482]\n",
      " [-0.913 -0.33  -0.241]\n",
      " [-0.365  0.396  0.843]]\n",
      "[[ -5.477  -7.12  -12.78 ]\n",
      " [  0.     -1.517  14.506]\n",
      " [  0.      0.     24.438]]\n"
     ]
    }
   ],
   "source": [
    "q, r = linalg.qr(A_0)\n",
    "print(q)\n",
    "print(r)"
   ]
  },
  {
   "cell_type": "markdown",
   "metadata": {},
   "source": [
    "## ` Eigenvalue and eigenvectors of a matrix`"
   ]
  },
  {
   "cell_type": "code",
   "execution_count": 13,
   "metadata": {},
   "outputs": [],
   "source": [
    "eigenval, eigenvect = linalg.eig(A_0)"
   ]
  },
  {
   "cell_type": "code",
   "execution_count": 14,
   "metadata": {},
   "outputs": [
    {
     "data": {
      "text/plain": [
       "array([ 0.965,  6.714, 31.321])"
      ]
     },
     "execution_count": 14,
     "metadata": {},
     "output_type": "execute_result"
    }
   ],
   "source": [
    "eigenval"
   ]
  },
  {
   "cell_type": "code",
   "execution_count": 15,
   "metadata": {},
   "outputs": [
    {
     "data": {
      "text/plain": [
       "array([[-0.771, -0.041,  0.098],\n",
       "       [ 0.637,  0.996,  0.061],\n",
       "       [ 0.009, -0.079,  0.993]])"
      ]
     },
     "execution_count": 15,
     "metadata": {},
     "output_type": "execute_result"
    }
   ],
   "source": [
    "eigenvect"
   ]
  },
  {
   "cell_type": "markdown",
   "metadata": {},
   "source": [
    "## 3. Tensors\n",
    "Tensors are generalization of vectors and matrices. They are multidimensional array. The so called `ndarray` in numpy. It takes some time to get used to tensors but they are very useful in machine learning. Scalars are zero order tensors, vectors are of first order and matrices are of third order. Of course there are higher order tensors."
   ]
  },
  {
   "cell_type": "markdown",
   "metadata": {},
   "source": [
    "A brief summary:<br><br>\n",
    "<table style=\"width:100%\">\n",
    "  <tr>\n",
    "    <td><b>Dimension</b></td>\n",
    "    <td><b>Geometrical representation</b></td> \n",
    "    <td><b>Mathematical Object</b></td>\n",
    "    <td><b>Example</b></td>\n",
    "  </tr>\n",
    "  \n",
    "  <tr>\n",
    "    <td>Zero </td>\n",
    "    <td>Point</td> \n",
    "    <td>Scalar </td>\n",
    "    <td>[ 1 ]</td>\n",
    "  </tr>\n",
    "\n",
    "  <tr>\n",
    "    <td>One</td>\n",
    "    <td>Line</td> \n",
    "    <td>Vector </td>\n",
    "    <td>[ 1,2,3,4,... ]</td>\n",
    "  </tr>\n",
    "  \n",
    "   <tr>\n",
    "    <td>Two</td>\n",
    "    <td>Surface</td> \n",
    "    <td>Matrix </td>\n",
    "       <td>[ [1,2,3,4,...], [1,2,3,4,...], [1,2,3,4,...],... ]</td>\n",
    "  </tr>\n",
    "  \n",
    "   <tr>\n",
    "    <td>Three</td>\n",
    "    <td>Volume</td> \n",
    "    <td>Cube of Numbers</td>\n",
    "    <td>[ [[1,2,...], [1,2,...], [1,2,...],...], [[1,2,...], [1,2,...], [1,2,...],...], [[1,2,...], [1,2,...], [1,2,...] ,...]... ]</td>\n",
    "  </tr>\n",
    "  \n",
    "</table>"
   ]
  },
  {
   "cell_type": "code",
   "execution_count": 2,
   "metadata": {},
   "outputs": [
    {
     "name": "stdout",
     "output_type": "stream",
     "text": [
      "(3, 3, 3)\n",
      "[[[ 1.   0.   3. ]\n",
      "  [ 4.   5.   6.5]\n",
      "  [ 7.   8.5  9. ]]\n",
      "\n",
      " [[ 1.5  2.   3. ]\n",
      "  [ 4.   1.   6. ]\n",
      "  [ 1.7  8.   9. ]]\n",
      "\n",
      " [[21.   2.5 23. ]\n",
      "  [ 4.   2.   6. ]\n",
      "  [ 7.   2.   2. ]]]\n"
     ]
    }
   ],
   "source": [
    "# Creation of a tensor T\n",
    "T_0 = np.array([\n",
    "  [[1,0,3],    [4,5,6.5],    [7,8.5,9]],\n",
    "  [[1.5,2,3], [4,1,6], [1.7,8,9]],\n",
    "  [[21,2.5,23], [4,2,6], [7,2,2]],\n",
    "  ])\n",
    "print(T_0.shape)\n",
    "print(T_0)"
   ]
  },
  {
   "cell_type": "markdown",
   "metadata": {},
   "source": [
    "All the arithmetic operations such as addition, division, substraction... done on vectors and matrices can be done on tensors the same way i.e element wise."
   ]
  },
  {
   "cell_type": "code",
   "execution_count": 3,
   "metadata": {},
   "outputs": [
    {
     "data": {
      "text/plain": [
       "array([[[ 2. ,  0. ,  6. ],\n",
       "        [ 8. , 10. , 13. ],\n",
       "        [14. , 17. , 18. ]],\n",
       "\n",
       "       [[ 3. ,  4. ,  6. ],\n",
       "        [ 8. ,  2. , 12. ],\n",
       "        [ 3.4, 16. , 18. ]],\n",
       "\n",
       "       [[42. ,  5. , 46. ],\n",
       "        [ 8. ,  4. , 12. ],\n",
       "        [14. ,  4. ,  4. ]]])"
      ]
     },
     "execution_count": 3,
     "metadata": {},
     "output_type": "execute_result"
    }
   ],
   "source": [
    "T_1=2*T_0\n",
    "T_1"
   ]
  },
  {
   "cell_type": "code",
   "execution_count": 4,
   "metadata": {},
   "outputs": [
    {
     "data": {
      "text/plain": [
       "array([[[ 0. ,  0. , -0.5],\n",
       "        [ 0. ,  0. ,  0. ],\n",
       "        [ 7. ,  0. ,  0. ]],\n",
       "\n",
       "       [[ 0. ,  0. ,  0. ],\n",
       "        [ 4. ,  0. ,  0. ],\n",
       "        [ 0. ,  0. ,  0. ]],\n",
       "\n",
       "       [[19. ,  0. ,  0. ],\n",
       "        [ 0. ,  0. ,  0. ],\n",
       "        [ 7. ,  0. ,  0. ]]])"
      ]
     },
     "execution_count": 4,
     "metadata": {},
     "output_type": "execute_result"
    }
   ],
   "source": [
    "T_2= np.array([\n",
    "  [[1,0,3.5],    [4,5,6.5],    [0,8.5,9]],\n",
    "  [[1.5,2,3], [0,1,6], [1.7,8,9]],\n",
    "  [[2,2.5,23], [4,2,6], [0,2,2]],\n",
    "  ])\n",
    "T_0-T_2"
   ]
  },
  {
   "cell_type": "code",
   "execution_count": 5,
   "metadata": {},
   "outputs": [
    {
     "data": {
      "text/plain": [
       "array([[[   2.  ,    0.  ,   18.  ],\n",
       "        [  32.  ,   50.  ,   84.5 ],\n",
       "        [  98.  ,  144.5 ,  162.  ]],\n",
       "\n",
       "       [[   4.5 ,    8.  ,   18.  ],\n",
       "        [  32.  ,    2.  ,   72.  ],\n",
       "        [   5.78,  128.  ,  162.  ]],\n",
       "\n",
       "       [[ 882.  ,   12.5 , 1058.  ],\n",
       "        [  32.  ,    8.  ,   72.  ],\n",
       "        [  98.  ,    8.  ,    8.  ]]])"
      ]
     },
     "execution_count": 5,
     "metadata": {},
     "output_type": "execute_result"
    }
   ],
   "source": [
    "T_1*T_0"
   ]
  },
  {
   "cell_type": "markdown",
   "metadata": {},
   "source": [
    "## Tensor product\n",
    "The best and essiest way to think about tensor product is as identical to the Kronecker product. Let us consider two 2-dimensional vectors $A=\\begin{pmatrix}a_1\\\\ a_2\\end{pmatrix}$ and $A=\\begin{pmatrix}b_1\\\\ b_2\\end{pmatrix}$, it is defined as $A\\otimes B=\\begin{pmatrix}a_1b_1\\\\a_1b_2\\\\a_2b_1\\\\ a_2b_2\\end{pmatrix}$. Take a look at this page to learn more [**Kroneccker product**](https://en.wikipedia.org/wiki/Kronecker_product)."
   ]
  },
  {
   "cell_type": "code",
   "execution_count": 6,
   "metadata": {},
   "outputs": [
    {
     "data": {
      "text/plain": [
       "array([[ 2],\n",
       "       [-1],\n",
       "       [ 4],\n",
       "       [-2]])"
      ]
     },
     "execution_count": 6,
     "metadata": {},
     "output_type": "execute_result"
    }
   ],
   "source": [
    "a1 = np.array([1, 2]) \n",
    "b1= np.array([2, -1])\n",
    "np.kron(a1, b1).reshape(-1,1)"
   ]
  },
  {
   "cell_type": "code",
   "execution_count": 7,
   "metadata": {},
   "outputs": [
    {
     "data": {
      "text/plain": [
       "array([[ 3. ,  4.5,  6. ,  9. ],\n",
       "       [ 0. ,  6. ,  0. , 12. ],\n",
       "       [ 5. ,  7.5,  8. , 12. ],\n",
       "       [ 0. , 10. ,  0. , 16. ]])"
      ]
     },
     "execution_count": 7,
     "metadata": {},
     "output_type": "execute_result"
    }
   ],
   "source": [
    "A1=np.array([[1.5,3],[2.5,4]])\n",
    "B1=np.array([[2,3],[0,4]])\n",
    "np.kron(A1, B1)"
   ]
  },
  {
   "cell_type": "code",
   "execution_count": 8,
   "metadata": {},
   "outputs": [],
   "source": [
    "# A bigger product\n",
    "np.kron(T_1, T_0)"
   ]
  },
  {
   "cell_type": "markdown",
   "metadata": {},
   "source": []
  }
 ],
 "metadata": {
  "kernelspec": {
   "display_name": "Python 3",
   "language": "python",
   "name": "python3"
  },
  "language_info": {
   "codemirror_mode": {
    "name": "ipython",
    "version": 3
   },
   "file_extension": ".py",
   "mimetype": "text/x-python",
   "name": "python",
   "nbconvert_exporter": "python",
   "pygments_lexer": "ipython3",
   "version": "3.7.1"
  }
 },
 "nbformat": 4,
 "nbformat_minor": 2
}
